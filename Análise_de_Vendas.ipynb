{
  "nbformat": 4,
  "nbformat_minor": 0,
  "metadata": {
    "colab": {
      "provenance": [],
      "mount_file_id": "1qeQg-zPP0SKbrQc7aIWsoT_0iAmJn4Sp",
      "authorship_tag": "ABX9TyMWUmMs7eBthJBooenxAt4v",
      "include_colab_link": true
    },
    "kernelspec": {
      "name": "python3",
      "display_name": "Python 3"
    },
    "language_info": {
      "name": "python"
    }
  },
  "cells": [
    {
      "cell_type": "markdown",
      "metadata": {
        "id": "view-in-github",
        "colab_type": "text"
      },
      "source": [
        "<a href=\"https://colab.research.google.com/github/gaiecks/Analise_Dados_Python/blob/main/An%C3%A1lise_de_Vendas.ipynb\" target=\"_parent\"><img src=\"https://colab.research.google.com/assets/colab-badge.svg\" alt=\"Open In Colab\"/></a>"
      ]
    },
    {
      "cell_type": "code",
      "execution_count": null,
      "metadata": {
        "id": "ke2Hsw1Z_vlw"
      },
      "outputs": [],
      "source": []
    },
    {
      "cell_type": "markdown",
      "source": [
        "Vamos analisar um conjunto de dados de gastos em Supermercado, obtido na plataforma kaggle.com.\n",
        "\n",
        "O conjunto traz dados de 3 filiais de supermercado em cidades diferentes, representados por A, B e C.\n",
        "\n",
        "O objetivo é fazer algumas constatações, análises simples e insights para identificar como o faturamento das 3 filiais se comporta em relação as linhas de produto, gênero, forma de pagamento e etc."
      ],
      "metadata": {
        "id": "GBDAY5BeQYec"
      }
    },
    {
      "cell_type": "code",
      "source": [
        "import numpy as np\n",
        "import pandas as pd\n",
        "import matplotlib.pyplot as plt"
      ],
      "metadata": {
        "id": "G2-H3T_iMX3F"
      },
      "execution_count": 3,
      "outputs": []
    },
    {
      "cell_type": "code",
      "source": [
        "#importando o conjunto de dados e exibindo as 10 primeiras linhas para visualzar a estrutura do dataset.\n",
        "\n",
        "df=pd.read_csv(\"/content/drive/MyDrive/análise de dados/supermarket_sales - Sheet1.csv\")\n",
        "df.head(10)"
      ],
      "metadata": {
        "colab": {
          "base_uri": "https://localhost:8080/",
          "height": 591
        },
        "id": "04rquc7NMxeW",
        "outputId": "e257889d-70ef-4727-a0b6-f93109740a24"
      },
      "execution_count": 4,
      "outputs": [
        {
          "output_type": "execute_result",
          "data": {
            "text/plain": [
              "    Invoice ID Branch       City Customer type  Gender  \\\n",
              "0  750-67-8428      A     Yangon        Member  Female   \n",
              "1  226-31-3081      C  Naypyitaw        Normal  Female   \n",
              "2  631-41-3108      A     Yangon        Normal    Male   \n",
              "3  123-19-1176      A     Yangon        Member    Male   \n",
              "4  373-73-7910      A     Yangon        Normal    Male   \n",
              "5  699-14-3026      C  Naypyitaw        Normal    Male   \n",
              "6  355-53-5943      A     Yangon        Member  Female   \n",
              "7  315-22-5665      C  Naypyitaw        Normal  Female   \n",
              "8  665-32-9167      A     Yangon        Member  Female   \n",
              "9  692-92-5582      B   Mandalay        Member  Female   \n",
              "\n",
              "             Product line  Unit price  Quantity   Tax 5%     Total       Date  \\\n",
              "0       Health and beauty       74.69         7  26.1415  548.9715   1/5/2019   \n",
              "1  Electronic accessories       15.28         5   3.8200   80.2200   3/8/2019   \n",
              "2      Home and lifestyle       46.33         7  16.2155  340.5255   3/3/2019   \n",
              "3       Health and beauty       58.22         8  23.2880  489.0480  1/27/2019   \n",
              "4       Sports and travel       86.31         7  30.2085  634.3785   2/8/2019   \n",
              "5  Electronic accessories       85.39         7  29.8865  627.6165  3/25/2019   \n",
              "6  Electronic accessories       68.84         6  20.6520  433.6920  2/25/2019   \n",
              "7      Home and lifestyle       73.56        10  36.7800  772.3800  2/24/2019   \n",
              "8       Health and beauty       36.26         2   3.6260   76.1460  1/10/2019   \n",
              "9      Food and beverages       54.84         3   8.2260  172.7460  2/20/2019   \n",
              "\n",
              "    Time      Payment    cogs  gross margin percentage  gross income  Rating  \n",
              "0  13:08      Ewallet  522.83                 4.761905       26.1415     9.1  \n",
              "1  10:29         Cash   76.40                 4.761905        3.8200     9.6  \n",
              "2  13:23  Credit card  324.31                 4.761905       16.2155     7.4  \n",
              "3  20:33      Ewallet  465.76                 4.761905       23.2880     8.4  \n",
              "4  10:37      Ewallet  604.17                 4.761905       30.2085     5.3  \n",
              "5  18:30      Ewallet  597.73                 4.761905       29.8865     4.1  \n",
              "6  14:36      Ewallet  413.04                 4.761905       20.6520     5.8  \n",
              "7  11:38      Ewallet  735.60                 4.761905       36.7800     8.0  \n",
              "8  17:15  Credit card   72.52                 4.761905        3.6260     7.2  \n",
              "9  13:27  Credit card  164.52                 4.761905        8.2260     5.9  "
            ],
            "text/html": [
              "\n",
              "  <div id=\"df-c0419c7c-599b-4a69-ab16-522aec6151b7\" class=\"colab-df-container\">\n",
              "    <div>\n",
              "<style scoped>\n",
              "    .dataframe tbody tr th:only-of-type {\n",
              "        vertical-align: middle;\n",
              "    }\n",
              "\n",
              "    .dataframe tbody tr th {\n",
              "        vertical-align: top;\n",
              "    }\n",
              "\n",
              "    .dataframe thead th {\n",
              "        text-align: right;\n",
              "    }\n",
              "</style>\n",
              "<table border=\"1\" class=\"dataframe\">\n",
              "  <thead>\n",
              "    <tr style=\"text-align: right;\">\n",
              "      <th></th>\n",
              "      <th>Invoice ID</th>\n",
              "      <th>Branch</th>\n",
              "      <th>City</th>\n",
              "      <th>Customer type</th>\n",
              "      <th>Gender</th>\n",
              "      <th>Product line</th>\n",
              "      <th>Unit price</th>\n",
              "      <th>Quantity</th>\n",
              "      <th>Tax 5%</th>\n",
              "      <th>Total</th>\n",
              "      <th>Date</th>\n",
              "      <th>Time</th>\n",
              "      <th>Payment</th>\n",
              "      <th>cogs</th>\n",
              "      <th>gross margin percentage</th>\n",
              "      <th>gross income</th>\n",
              "      <th>Rating</th>\n",
              "    </tr>\n",
              "  </thead>\n",
              "  <tbody>\n",
              "    <tr>\n",
              "      <th>0</th>\n",
              "      <td>750-67-8428</td>\n",
              "      <td>A</td>\n",
              "      <td>Yangon</td>\n",
              "      <td>Member</td>\n",
              "      <td>Female</td>\n",
              "      <td>Health and beauty</td>\n",
              "      <td>74.69</td>\n",
              "      <td>7</td>\n",
              "      <td>26.1415</td>\n",
              "      <td>548.9715</td>\n",
              "      <td>1/5/2019</td>\n",
              "      <td>13:08</td>\n",
              "      <td>Ewallet</td>\n",
              "      <td>522.83</td>\n",
              "      <td>4.761905</td>\n",
              "      <td>26.1415</td>\n",
              "      <td>9.1</td>\n",
              "    </tr>\n",
              "    <tr>\n",
              "      <th>1</th>\n",
              "      <td>226-31-3081</td>\n",
              "      <td>C</td>\n",
              "      <td>Naypyitaw</td>\n",
              "      <td>Normal</td>\n",
              "      <td>Female</td>\n",
              "      <td>Electronic accessories</td>\n",
              "      <td>15.28</td>\n",
              "      <td>5</td>\n",
              "      <td>3.8200</td>\n",
              "      <td>80.2200</td>\n",
              "      <td>3/8/2019</td>\n",
              "      <td>10:29</td>\n",
              "      <td>Cash</td>\n",
              "      <td>76.40</td>\n",
              "      <td>4.761905</td>\n",
              "      <td>3.8200</td>\n",
              "      <td>9.6</td>\n",
              "    </tr>\n",
              "    <tr>\n",
              "      <th>2</th>\n",
              "      <td>631-41-3108</td>\n",
              "      <td>A</td>\n",
              "      <td>Yangon</td>\n",
              "      <td>Normal</td>\n",
              "      <td>Male</td>\n",
              "      <td>Home and lifestyle</td>\n",
              "      <td>46.33</td>\n",
              "      <td>7</td>\n",
              "      <td>16.2155</td>\n",
              "      <td>340.5255</td>\n",
              "      <td>3/3/2019</td>\n",
              "      <td>13:23</td>\n",
              "      <td>Credit card</td>\n",
              "      <td>324.31</td>\n",
              "      <td>4.761905</td>\n",
              "      <td>16.2155</td>\n",
              "      <td>7.4</td>\n",
              "    </tr>\n",
              "    <tr>\n",
              "      <th>3</th>\n",
              "      <td>123-19-1176</td>\n",
              "      <td>A</td>\n",
              "      <td>Yangon</td>\n",
              "      <td>Member</td>\n",
              "      <td>Male</td>\n",
              "      <td>Health and beauty</td>\n",
              "      <td>58.22</td>\n",
              "      <td>8</td>\n",
              "      <td>23.2880</td>\n",
              "      <td>489.0480</td>\n",
              "      <td>1/27/2019</td>\n",
              "      <td>20:33</td>\n",
              "      <td>Ewallet</td>\n",
              "      <td>465.76</td>\n",
              "      <td>4.761905</td>\n",
              "      <td>23.2880</td>\n",
              "      <td>8.4</td>\n",
              "    </tr>\n",
              "    <tr>\n",
              "      <th>4</th>\n",
              "      <td>373-73-7910</td>\n",
              "      <td>A</td>\n",
              "      <td>Yangon</td>\n",
              "      <td>Normal</td>\n",
              "      <td>Male</td>\n",
              "      <td>Sports and travel</td>\n",
              "      <td>86.31</td>\n",
              "      <td>7</td>\n",
              "      <td>30.2085</td>\n",
              "      <td>634.3785</td>\n",
              "      <td>2/8/2019</td>\n",
              "      <td>10:37</td>\n",
              "      <td>Ewallet</td>\n",
              "      <td>604.17</td>\n",
              "      <td>4.761905</td>\n",
              "      <td>30.2085</td>\n",
              "      <td>5.3</td>\n",
              "    </tr>\n",
              "    <tr>\n",
              "      <th>5</th>\n",
              "      <td>699-14-3026</td>\n",
              "      <td>C</td>\n",
              "      <td>Naypyitaw</td>\n",
              "      <td>Normal</td>\n",
              "      <td>Male</td>\n",
              "      <td>Electronic accessories</td>\n",
              "      <td>85.39</td>\n",
              "      <td>7</td>\n",
              "      <td>29.8865</td>\n",
              "      <td>627.6165</td>\n",
              "      <td>3/25/2019</td>\n",
              "      <td>18:30</td>\n",
              "      <td>Ewallet</td>\n",
              "      <td>597.73</td>\n",
              "      <td>4.761905</td>\n",
              "      <td>29.8865</td>\n",
              "      <td>4.1</td>\n",
              "    </tr>\n",
              "    <tr>\n",
              "      <th>6</th>\n",
              "      <td>355-53-5943</td>\n",
              "      <td>A</td>\n",
              "      <td>Yangon</td>\n",
              "      <td>Member</td>\n",
              "      <td>Female</td>\n",
              "      <td>Electronic accessories</td>\n",
              "      <td>68.84</td>\n",
              "      <td>6</td>\n",
              "      <td>20.6520</td>\n",
              "      <td>433.6920</td>\n",
              "      <td>2/25/2019</td>\n",
              "      <td>14:36</td>\n",
              "      <td>Ewallet</td>\n",
              "      <td>413.04</td>\n",
              "      <td>4.761905</td>\n",
              "      <td>20.6520</td>\n",
              "      <td>5.8</td>\n",
              "    </tr>\n",
              "    <tr>\n",
              "      <th>7</th>\n",
              "      <td>315-22-5665</td>\n",
              "      <td>C</td>\n",
              "      <td>Naypyitaw</td>\n",
              "      <td>Normal</td>\n",
              "      <td>Female</td>\n",
              "      <td>Home and lifestyle</td>\n",
              "      <td>73.56</td>\n",
              "      <td>10</td>\n",
              "      <td>36.7800</td>\n",
              "      <td>772.3800</td>\n",
              "      <td>2/24/2019</td>\n",
              "      <td>11:38</td>\n",
              "      <td>Ewallet</td>\n",
              "      <td>735.60</td>\n",
              "      <td>4.761905</td>\n",
              "      <td>36.7800</td>\n",
              "      <td>8.0</td>\n",
              "    </tr>\n",
              "    <tr>\n",
              "      <th>8</th>\n",
              "      <td>665-32-9167</td>\n",
              "      <td>A</td>\n",
              "      <td>Yangon</td>\n",
              "      <td>Member</td>\n",
              "      <td>Female</td>\n",
              "      <td>Health and beauty</td>\n",
              "      <td>36.26</td>\n",
              "      <td>2</td>\n",
              "      <td>3.6260</td>\n",
              "      <td>76.1460</td>\n",
              "      <td>1/10/2019</td>\n",
              "      <td>17:15</td>\n",
              "      <td>Credit card</td>\n",
              "      <td>72.52</td>\n",
              "      <td>4.761905</td>\n",
              "      <td>3.6260</td>\n",
              "      <td>7.2</td>\n",
              "    </tr>\n",
              "    <tr>\n",
              "      <th>9</th>\n",
              "      <td>692-92-5582</td>\n",
              "      <td>B</td>\n",
              "      <td>Mandalay</td>\n",
              "      <td>Member</td>\n",
              "      <td>Female</td>\n",
              "      <td>Food and beverages</td>\n",
              "      <td>54.84</td>\n",
              "      <td>3</td>\n",
              "      <td>8.2260</td>\n",
              "      <td>172.7460</td>\n",
              "      <td>2/20/2019</td>\n",
              "      <td>13:27</td>\n",
              "      <td>Credit card</td>\n",
              "      <td>164.52</td>\n",
              "      <td>4.761905</td>\n",
              "      <td>8.2260</td>\n",
              "      <td>5.9</td>\n",
              "    </tr>\n",
              "  </tbody>\n",
              "</table>\n",
              "</div>\n",
              "    <div class=\"colab-df-buttons\">\n",
              "\n",
              "  <div class=\"colab-df-container\">\n",
              "    <button class=\"colab-df-convert\" onclick=\"convertToInteractive('df-c0419c7c-599b-4a69-ab16-522aec6151b7')\"\n",
              "            title=\"Convert this dataframe to an interactive table.\"\n",
              "            style=\"display:none;\">\n",
              "\n",
              "  <svg xmlns=\"http://www.w3.org/2000/svg\" height=\"24px\" viewBox=\"0 -960 960 960\">\n",
              "    <path d=\"M120-120v-720h720v720H120Zm60-500h600v-160H180v160Zm220 220h160v-160H400v160Zm0 220h160v-160H400v160ZM180-400h160v-160H180v160Zm440 0h160v-160H620v160ZM180-180h160v-160H180v160Zm440 0h160v-160H620v160Z\"/>\n",
              "  </svg>\n",
              "    </button>\n",
              "\n",
              "  <style>\n",
              "    .colab-df-container {\n",
              "      display:flex;\n",
              "      gap: 12px;\n",
              "    }\n",
              "\n",
              "    .colab-df-convert {\n",
              "      background-color: #E8F0FE;\n",
              "      border: none;\n",
              "      border-radius: 50%;\n",
              "      cursor: pointer;\n",
              "      display: none;\n",
              "      fill: #1967D2;\n",
              "      height: 32px;\n",
              "      padding: 0 0 0 0;\n",
              "      width: 32px;\n",
              "    }\n",
              "\n",
              "    .colab-df-convert:hover {\n",
              "      background-color: #E2EBFA;\n",
              "      box-shadow: 0px 1px 2px rgba(60, 64, 67, 0.3), 0px 1px 3px 1px rgba(60, 64, 67, 0.15);\n",
              "      fill: #174EA6;\n",
              "    }\n",
              "\n",
              "    .colab-df-buttons div {\n",
              "      margin-bottom: 4px;\n",
              "    }\n",
              "\n",
              "    [theme=dark] .colab-df-convert {\n",
              "      background-color: #3B4455;\n",
              "      fill: #D2E3FC;\n",
              "    }\n",
              "\n",
              "    [theme=dark] .colab-df-convert:hover {\n",
              "      background-color: #434B5C;\n",
              "      box-shadow: 0px 1px 3px 1px rgba(0, 0, 0, 0.15);\n",
              "      filter: drop-shadow(0px 1px 2px rgba(0, 0, 0, 0.3));\n",
              "      fill: #FFFFFF;\n",
              "    }\n",
              "  </style>\n",
              "\n",
              "    <script>\n",
              "      const buttonEl =\n",
              "        document.querySelector('#df-c0419c7c-599b-4a69-ab16-522aec6151b7 button.colab-df-convert');\n",
              "      buttonEl.style.display =\n",
              "        google.colab.kernel.accessAllowed ? 'block' : 'none';\n",
              "\n",
              "      async function convertToInteractive(key) {\n",
              "        const element = document.querySelector('#df-c0419c7c-599b-4a69-ab16-522aec6151b7');\n",
              "        const dataTable =\n",
              "          await google.colab.kernel.invokeFunction('convertToInteractive',\n",
              "                                                    [key], {});\n",
              "        if (!dataTable) return;\n",
              "\n",
              "        const docLinkHtml = 'Like what you see? Visit the ' +\n",
              "          '<a target=\"_blank\" href=https://colab.research.google.com/notebooks/data_table.ipynb>data table notebook</a>'\n",
              "          + ' to learn more about interactive tables.';\n",
              "        element.innerHTML = '';\n",
              "        dataTable['output_type'] = 'display_data';\n",
              "        await google.colab.output.renderOutput(dataTable, element);\n",
              "        const docLink = document.createElement('div');\n",
              "        docLink.innerHTML = docLinkHtml;\n",
              "        element.appendChild(docLink);\n",
              "      }\n",
              "    </script>\n",
              "  </div>\n",
              "\n",
              "\n",
              "<div id=\"df-992bc15a-8b7f-4784-afaf-d4b9f0ece518\">\n",
              "  <button class=\"colab-df-quickchart\" onclick=\"quickchart('df-992bc15a-8b7f-4784-afaf-d4b9f0ece518')\"\n",
              "            title=\"Suggest charts\"\n",
              "            style=\"display:none;\">\n",
              "\n",
              "<svg xmlns=\"http://www.w3.org/2000/svg\" height=\"24px\"viewBox=\"0 0 24 24\"\n",
              "     width=\"24px\">\n",
              "    <g>\n",
              "        <path d=\"M19 3H5c-1.1 0-2 .9-2 2v14c0 1.1.9 2 2 2h14c1.1 0 2-.9 2-2V5c0-1.1-.9-2-2-2zM9 17H7v-7h2v7zm4 0h-2V7h2v10zm4 0h-2v-4h2v4z\"/>\n",
              "    </g>\n",
              "</svg>\n",
              "  </button>\n",
              "\n",
              "<style>\n",
              "  .colab-df-quickchart {\n",
              "      --bg-color: #E8F0FE;\n",
              "      --fill-color: #1967D2;\n",
              "      --hover-bg-color: #E2EBFA;\n",
              "      --hover-fill-color: #174EA6;\n",
              "      --disabled-fill-color: #AAA;\n",
              "      --disabled-bg-color: #DDD;\n",
              "  }\n",
              "\n",
              "  [theme=dark] .colab-df-quickchart {\n",
              "      --bg-color: #3B4455;\n",
              "      --fill-color: #D2E3FC;\n",
              "      --hover-bg-color: #434B5C;\n",
              "      --hover-fill-color: #FFFFFF;\n",
              "      --disabled-bg-color: #3B4455;\n",
              "      --disabled-fill-color: #666;\n",
              "  }\n",
              "\n",
              "  .colab-df-quickchart {\n",
              "    background-color: var(--bg-color);\n",
              "    border: none;\n",
              "    border-radius: 50%;\n",
              "    cursor: pointer;\n",
              "    display: none;\n",
              "    fill: var(--fill-color);\n",
              "    height: 32px;\n",
              "    padding: 0;\n",
              "    width: 32px;\n",
              "  }\n",
              "\n",
              "  .colab-df-quickchart:hover {\n",
              "    background-color: var(--hover-bg-color);\n",
              "    box-shadow: 0 1px 2px rgba(60, 64, 67, 0.3), 0 1px 3px 1px rgba(60, 64, 67, 0.15);\n",
              "    fill: var(--button-hover-fill-color);\n",
              "  }\n",
              "\n",
              "  .colab-df-quickchart-complete:disabled,\n",
              "  .colab-df-quickchart-complete:disabled:hover {\n",
              "    background-color: var(--disabled-bg-color);\n",
              "    fill: var(--disabled-fill-color);\n",
              "    box-shadow: none;\n",
              "  }\n",
              "\n",
              "  .colab-df-spinner {\n",
              "    border: 2px solid var(--fill-color);\n",
              "    border-color: transparent;\n",
              "    border-bottom-color: var(--fill-color);\n",
              "    animation:\n",
              "      spin 1s steps(1) infinite;\n",
              "  }\n",
              "\n",
              "  @keyframes spin {\n",
              "    0% {\n",
              "      border-color: transparent;\n",
              "      border-bottom-color: var(--fill-color);\n",
              "      border-left-color: var(--fill-color);\n",
              "    }\n",
              "    20% {\n",
              "      border-color: transparent;\n",
              "      border-left-color: var(--fill-color);\n",
              "      border-top-color: var(--fill-color);\n",
              "    }\n",
              "    30% {\n",
              "      border-color: transparent;\n",
              "      border-left-color: var(--fill-color);\n",
              "      border-top-color: var(--fill-color);\n",
              "      border-right-color: var(--fill-color);\n",
              "    }\n",
              "    40% {\n",
              "      border-color: transparent;\n",
              "      border-right-color: var(--fill-color);\n",
              "      border-top-color: var(--fill-color);\n",
              "    }\n",
              "    60% {\n",
              "      border-color: transparent;\n",
              "      border-right-color: var(--fill-color);\n",
              "    }\n",
              "    80% {\n",
              "      border-color: transparent;\n",
              "      border-right-color: var(--fill-color);\n",
              "      border-bottom-color: var(--fill-color);\n",
              "    }\n",
              "    90% {\n",
              "      border-color: transparent;\n",
              "      border-bottom-color: var(--fill-color);\n",
              "    }\n",
              "  }\n",
              "</style>\n",
              "\n",
              "  <script>\n",
              "    async function quickchart(key) {\n",
              "      const quickchartButtonEl =\n",
              "        document.querySelector('#' + key + ' button');\n",
              "      quickchartButtonEl.disabled = true;  // To prevent multiple clicks.\n",
              "      quickchartButtonEl.classList.add('colab-df-spinner');\n",
              "      try {\n",
              "        const charts = await google.colab.kernel.invokeFunction(\n",
              "            'suggestCharts', [key], {});\n",
              "      } catch (error) {\n",
              "        console.error('Error during call to suggestCharts:', error);\n",
              "      }\n",
              "      quickchartButtonEl.classList.remove('colab-df-spinner');\n",
              "      quickchartButtonEl.classList.add('colab-df-quickchart-complete');\n",
              "    }\n",
              "    (() => {\n",
              "      let quickchartButtonEl =\n",
              "        document.querySelector('#df-992bc15a-8b7f-4784-afaf-d4b9f0ece518 button');\n",
              "      quickchartButtonEl.style.display =\n",
              "        google.colab.kernel.accessAllowed ? 'block' : 'none';\n",
              "    })();\n",
              "  </script>\n",
              "</div>\n",
              "\n",
              "    </div>\n",
              "  </div>\n"
            ],
            "application/vnd.google.colaboratory.intrinsic+json": {
              "type": "dataframe",
              "variable_name": "df",
              "summary": "{\n  \"name\": \"df\",\n  \"rows\": 1000,\n  \"fields\": [\n    {\n      \"column\": \"Invoice ID\",\n      \"properties\": {\n        \"dtype\": \"string\",\n        \"num_unique_values\": 1000,\n        \"samples\": [\n          \"451-28-5717\",\n          \"137-63-5492\",\n          \"733-29-1227\"\n        ],\n        \"semantic_type\": \"\",\n        \"description\": \"\"\n      }\n    },\n    {\n      \"column\": \"Branch\",\n      \"properties\": {\n        \"dtype\": \"category\",\n        \"num_unique_values\": 3,\n        \"samples\": [\n          \"A\",\n          \"C\",\n          \"B\"\n        ],\n        \"semantic_type\": \"\",\n        \"description\": \"\"\n      }\n    },\n    {\n      \"column\": \"City\",\n      \"properties\": {\n        \"dtype\": \"category\",\n        \"num_unique_values\": 3,\n        \"samples\": [\n          \"Yangon\",\n          \"Naypyitaw\",\n          \"Mandalay\"\n        ],\n        \"semantic_type\": \"\",\n        \"description\": \"\"\n      }\n    },\n    {\n      \"column\": \"Customer type\",\n      \"properties\": {\n        \"dtype\": \"category\",\n        \"num_unique_values\": 2,\n        \"samples\": [\n          \"Normal\",\n          \"Member\"\n        ],\n        \"semantic_type\": \"\",\n        \"description\": \"\"\n      }\n    },\n    {\n      \"column\": \"Gender\",\n      \"properties\": {\n        \"dtype\": \"category\",\n        \"num_unique_values\": 2,\n        \"samples\": [\n          \"Male\",\n          \"Female\"\n        ],\n        \"semantic_type\": \"\",\n        \"description\": \"\"\n      }\n    },\n    {\n      \"column\": \"Product line\",\n      \"properties\": {\n        \"dtype\": \"category\",\n        \"num_unique_values\": 6,\n        \"samples\": [\n          \"Health and beauty\",\n          \"Electronic accessories\"\n        ],\n        \"semantic_type\": \"\",\n        \"description\": \"\"\n      }\n    },\n    {\n      \"column\": \"Unit price\",\n      \"properties\": {\n        \"dtype\": \"number\",\n        \"std\": 26.49462834791978,\n        \"min\": 10.08,\n        \"max\": 99.96,\n        \"num_unique_values\": 943,\n        \"samples\": [\n          12.45,\n          70.74\n        ],\n        \"semantic_type\": \"\",\n        \"description\": \"\"\n      }\n    },\n    {\n      \"column\": \"Quantity\",\n      \"properties\": {\n        \"dtype\": \"number\",\n        \"std\": 2,\n        \"min\": 1,\n        \"max\": 10,\n        \"num_unique_values\": 10,\n        \"samples\": [\n          1,\n          5\n        ],\n        \"semantic_type\": \"\",\n        \"description\": \"\"\n      }\n    },\n    {\n      \"column\": \"Tax 5%\",\n      \"properties\": {\n        \"dtype\": \"number\",\n        \"std\": 11.708825480998659,\n        \"min\": 0.5085,\n        \"max\": 49.65,\n        \"num_unique_values\": 990,\n        \"samples\": [\n          0.914,\n          2.348\n        ],\n        \"semantic_type\": \"\",\n        \"description\": \"\"\n      }\n    },\n    {\n      \"column\": \"Total\",\n      \"properties\": {\n        \"dtype\": \"number\",\n        \"std\": 245.88533510097187,\n        \"min\": 10.6785,\n        \"max\": 1042.65,\n        \"num_unique_values\": 990,\n        \"samples\": [\n          19.194,\n          49.308\n        ],\n        \"semantic_type\": \"\",\n        \"description\": \"\"\n      }\n    },\n    {\n      \"column\": \"Date\",\n      \"properties\": {\n        \"dtype\": \"object\",\n        \"num_unique_values\": 89,\n        \"samples\": [\n          \"2/14/2019\",\n          \"1/26/2019\"\n        ],\n        \"semantic_type\": \"\",\n        \"description\": \"\"\n      }\n    },\n    {\n      \"column\": \"Time\",\n      \"properties\": {\n        \"dtype\": \"object\",\n        \"num_unique_values\": 506,\n        \"samples\": [\n          \"10:13\",\n          \"11:21\"\n        ],\n        \"semantic_type\": \"\",\n        \"description\": \"\"\n      }\n    },\n    {\n      \"column\": \"Payment\",\n      \"properties\": {\n        \"dtype\": \"category\",\n        \"num_unique_values\": 3,\n        \"samples\": [\n          \"Ewallet\",\n          \"Cash\"\n        ],\n        \"semantic_type\": \"\",\n        \"description\": \"\"\n      }\n    },\n    {\n      \"column\": \"cogs\",\n      \"properties\": {\n        \"dtype\": \"number\",\n        \"std\": 234.1765096199732,\n        \"min\": 10.17,\n        \"max\": 993.0,\n        \"num_unique_values\": 990,\n        \"samples\": [\n          18.28,\n          46.96\n        ],\n        \"semantic_type\": \"\",\n        \"description\": \"\"\n      }\n    },\n    {\n      \"column\": \"gross margin percentage\",\n      \"properties\": {\n        \"dtype\": \"number\",\n        \"std\": 0.0,\n        \"min\": 4.761904762,\n        \"max\": 4.761904762,\n        \"num_unique_values\": 1,\n        \"samples\": [\n          4.761904762\n        ],\n        \"semantic_type\": \"\",\n        \"description\": \"\"\n      }\n    },\n    {\n      \"column\": \"gross income\",\n      \"properties\": {\n        \"dtype\": \"number\",\n        \"std\": 11.708825480998659,\n        \"min\": 0.5085,\n        \"max\": 49.65,\n        \"num_unique_values\": 990,\n        \"samples\": [\n          0.914\n        ],\n        \"semantic_type\": \"\",\n        \"description\": \"\"\n      }\n    },\n    {\n      \"column\": \"Rating\",\n      \"properties\": {\n        \"dtype\": \"number\",\n        \"std\": 1.7185802943791215,\n        \"min\": 4.0,\n        \"max\": 10.0,\n        \"num_unique_values\": 61,\n        \"samples\": [\n          9.1\n        ],\n        \"semantic_type\": \"\",\n        \"description\": \"\"\n      }\n    }\n  ]\n}"
            }
          },
          "metadata": {},
          "execution_count": 4
        }
      ]
    },
    {
      "cell_type": "code",
      "source": [
        "#verificando todas as colunas do dataset\n",
        "df.columns"
      ],
      "metadata": {
        "colab": {
          "base_uri": "https://localhost:8080/"
        },
        "id": "magrUL8mEGEZ",
        "outputId": "d8c9587e-08f7-4c5c-e091-720ddb7da8ff"
      },
      "execution_count": 5,
      "outputs": [
        {
          "output_type": "execute_result",
          "data": {
            "text/plain": [
              "Index(['Invoice ID', 'Branch', 'City', 'Customer type', 'Gender',\n",
              "       'Product line', 'Unit price', 'Quantity', 'Tax 5%', 'Total', 'Date',\n",
              "       'Time', 'Payment', 'cogs', 'gross margin percentage', 'gross income',\n",
              "       'Rating'],\n",
              "      dtype='object')"
            ]
          },
          "metadata": {},
          "execution_count": 5
        }
      ]
    },
    {
      "cell_type": "markdown",
      "source": [
        "Vamos iniciar analisando o faturamento por Filial:"
      ],
      "metadata": {
        "id": "VD6COBtKQml2"
      }
    },
    {
      "cell_type": "code",
      "source": [
        "# Agrupando os dados por filial e somando o total de cada grupo\n",
        "faturamento_por_filial = df.groupby('Branch')['Total'].sum()\n",
        "\n",
        "# Arredondando o faturamento para 2 casas decimais\n",
        "faturamento_por_filial = faturamento_por_filial.round(2)\n",
        "\n",
        "# Exibir o faturamento por filial\n",
        "print(faturamento_por_filial)\n",
        "\n",
        "#construindo um gráfico de barras\n",
        "barras = plt.bar(faturamento_por_filial.index, faturamento_por_filial.values, color=['red'])\n",
        "plt.xlabel('Filal')\n",
        "plt.ylabel('Faturamento')\n",
        "plt.title('Faturamento por filial')\n",
        "plt.bar_label(barras)\n",
        "\n",
        "\n"
      ],
      "metadata": {
        "colab": {
          "base_uri": "https://localhost:8080/",
          "height": 576
        },
        "id": "9Bw5O_DCNo5i",
        "outputId": "98688bd5-41fb-49a7-8acc-2714d1273728"
      },
      "execution_count": 6,
      "outputs": [
        {
          "output_type": "stream",
          "name": "stdout",
          "text": [
            "Branch\n",
            "A    106200.37\n",
            "B    106197.67\n",
            "C    110568.71\n",
            "Name: Total, dtype: float64\n"
          ]
        },
        {
          "output_type": "execute_result",
          "data": {
            "text/plain": [
              "[Text(0, 0, '106200'), Text(0, 0, '106198'), Text(0, 0, '110569')]"
            ]
          },
          "metadata": {},
          "execution_count": 6
        },
        {
          "output_type": "display_data",
          "data": {
            "text/plain": [
              "<Figure size 640x480 with 1 Axes>"
            ],
            "image/png": "[encoded data removed]"
          },
          "metadata": {}
        }
      ]
    },
    {
      "cell_type": "markdown",
      "source": [
        "Agora vamos entender o faturamento por filial ao longo dos meses:"
      ],
      "metadata": {
        "id": "XkilAlfcEtUH"
      }
    },
    {
      "cell_type": "code",
      "source": [],
      "metadata": {
        "id": "aMZR1sYEQtlf"
      },
      "execution_count": null,
      "outputs": []
    },
    {
      "cell_type": "code",
      "source": [
        "# Convertendo a coluna 'Date' para o tipo de dados de data\n",
        "df['Date'] = pd.to_datetime(df['Date'])\n",
        "\n",
        "df['Month'] = df['Date'].dt.month\n",
        "\n",
        "# Agrupando os dados por 'Branch' (Filial) e 'Year' e somando os totais\n",
        "faturamento_por_filial_mes = df.groupby(['Branch', 'Month'])['Total'].sum().unstack(fill_value=0)\n",
        "\n",
        "# Arredondando os valores para duas casas decimais\n",
        "faturamento_por_filial_mes = faturamento_por_filial_mes.round(2)\n",
        "\n",
        "print(faturamento_por_filial_mes)\n",
        "\n",
        "\n",
        "# Foi necessário Transpor a tabela para que as filiais se tornem índices e os meses se tornem colunas\n",
        "faturamento_por_filial_mes_transposto = faturamento_por_filial_mes.T\n",
        "\n",
        "# Plotar o gráfico de linha\n",
        "faturamento_por_filial_mes_transposto.plot(kind='line', marker='o', figsize=(10, 6))\n",
        "\n",
        "plt.xlabel('Mês')\n",
        "plt.ylabel('Faturamento')\n",
        "plt.title('Faturamento por Filial ao Longo dos Meses')\n",
        "plt.legend(title='Filial')\n",
        "plt.xticks(range(1, 4), ['Mês 1', 'Mês 2', 'Mês 3'])\n",
        "plt.grid(True)  # Adiciona grade ao gráfico\n",
        "plt.show()\n",
        "\n",
        "\n",
        "\n",
        "\n"
      ],
      "metadata": {
        "colab": {
          "base_uri": "https://localhost:8080/",
          "height": 651
        },
        "id": "rXG-z1nQmsKX",
        "outputId": "842c452a-fa30-4352-8ff0-3f5e836c43d8"
      },
      "execution_count": 7,
      "outputs": [
        {
          "output_type": "stream",
          "name": "stdout",
          "text": [
            "Month          1         2         3\n",
            "Branch                              \n",
            "A       38681.13  29860.12  37659.12\n",
            "B       37176.06  34424.27  34597.34\n",
            "C       40434.68  32934.98  37199.04\n"
          ]
        },
        {
          "output_type": "display_data",
          "data": {
            "text/plain": [
              "<Figure size 1000x600 with 1 Axes>"
            ],
            "image/png": "[encoded data removed]"
          },
          "metadata": {}
        }
      ]
    },
    {
      "cell_type": "markdown",
      "source": [
        "Podemos observar que no mês 2 todas as filiais apresentaram uma queda no faturamento. Entretanto, as filiais A e C conseguiram recuperar em partes seu faturamento, enquanto a filial B se manteve no mesmo patamar do mês 2, indicando uma defasagem em relação as demais filiais.\n",
        "\n",
        "\n",
        "Vamos tentar entender o faturamento do ponto de vista de linhas de produto. O objetivo é tentar diagnosticar quais linhas vendem mais e quais vendem menos e se há uma variação muito grande ao longo do período."
      ],
      "metadata": {
        "id": "WTtr_3_hE0MD"
      }
    },
    {
      "cell_type": "code",
      "source": [
        "tabela_faturamento_filial = df.groupby(['Branch', 'Product line'])['Total'].sum().unstack(fill_value=0)\n",
        "\n",
        "tabela_faturamento_filial = tabela_faturamento_filial.round(2)\n",
        "\n",
        "print(tabela_faturamento_filial)\n",
        "\n",
        "#Plotando um gráfico de barras\n",
        "tabela_faturamento_filial.plot(kind='bar', figsize=(10, 6))\n",
        "plt.xlabel('Filial')\n",
        "plt.ylabel('Faturamento')\n",
        "plt.title('Faturamento por Filial e Linha de Produto')\n",
        "plt.legend(title='Linha de Produto')\n",
        "plt.xticks(rotation=0)  # Rotaciona os rótulos do eixo x para facilitar a leitura\n",
        "plt.show()\n",
        "\n",
        "\n"
      ],
      "metadata": {
        "colab": {
          "base_uri": "https://localhost:8080/",
          "height": 755
        },
        "id": "FN-YAPolhLu2",
        "outputId": "a34eab85-57b9-4e40-e636-b212e2bf4994"
      },
      "execution_count": 8,
      "outputs": [
        {
          "output_type": "stream",
          "name": "stdout",
          "text": [
            "Product line  Electronic accessories  Fashion accessories  Food and beverages  \\\n",
            "Branch                                                                          \n",
            "A                           18317.11             16332.51            17163.10   \n",
            "B                           17051.44             16413.32            15214.89   \n",
            "C                           18968.97             21560.07            23766.86   \n",
            "\n",
            "Product line  Health and beauty  Home and lifestyle  Sports and travel  \n",
            "Branch                                                                  \n",
            "A                      12597.75            22417.20           19372.70  \n",
            "B                      19980.66            17549.16           19988.20  \n",
            "C                      16615.33            13895.55           15761.93  \n"
          ]
        },
        {
          "output_type": "display_data",
          "data": {
            "text/plain": [
              "<Figure size 1000x600 with 1 Axes>"
            ],
            "image/png": "[encoded data removed]"
          },
          "metadata": {}
        }
      ]
    },
    {
      "cell_type": "markdown",
      "source": [
        "Para refinar a análise, vamos observar o faturamento por linha de produto, por mês e por filial:"
      ],
      "metadata": {
        "id": "I8VZycSGGBBW"
      }
    },
    {
      "cell_type": "code",
      "source": [
        "# Filtrar os dados apenas para a filial A\n",
        "dados_filial_A = df[df['Branch'] == 'A']\n",
        "\n",
        "# Agrupar os dados por mês e linha de produto e somar os totais\n",
        "faturamento_por_linha_produto_mes_A = dados_filial_A.groupby(['Product line', 'Month'])['Total'].sum().unstack(fill_value=0)\n",
        "\n",
        "# Adicionar uma coluna com o total dos valores para cada linha de produto\n",
        "faturamento_por_linha_produto_mes_A['Total'] = faturamento_por_linha_produto_mes_A.sum(axis=1)\n",
        "\n",
        "# Adicionar uma linha com a soma dos totais para cada mês\n",
        "faturamento_por_linha_produto_mes_A.loc['Total'] = faturamento_por_linha_produto_mes_A.sum()\n",
        "\n",
        "# Arredondar os valores para duas casas decimais\n",
        "faturamento_por_linha_produto_mes_A = faturamento_por_linha_produto_mes_A.round(2)\n",
        "\n",
        "print(\"Filial A:\")\n",
        "print(faturamento_por_linha_produto_mes_A)\n",
        "print()\n",
        "\n",
        "# Filtrar os dados apenas para a filial B\n",
        "dados_filial_B = df[df['Branch'] == 'B']\n",
        "\n",
        "# Agrupar os dados por mês e linha de produto e somar os totais\n",
        "faturamento_por_linha_produto_mes_B = dados_filial_B.groupby(['Product line', 'Month'])['Total'].sum().unstack(fill_value=0)\n",
        "\n",
        "# Adicionar uma coluna com o total dos valores para cada linha de produto\n",
        "faturamento_por_linha_produto_mes_B['Total'] = faturamento_por_linha_produto_mes_B.sum(axis=1)\n",
        "\n",
        "# Adicionar uma linha com a soma dos totais para cada mês\n",
        "faturamento_por_linha_produto_mes_B.loc['Total'] = faturamento_por_linha_produto_mes_B.sum()\n",
        "\n",
        "# Arredondar os valores para duas casas decimais\n",
        "faturamento_por_linha_produto_mes_B = faturamento_por_linha_produto_mes_B.round(2)\n",
        "\n",
        "print(\"Filial B:\")\n",
        "print(faturamento_por_linha_produto_mes_B)\n",
        "print()\n",
        "\n",
        "# Filtrar os dados apenas para a filial C\n",
        "dados_filial_C = df[df['Branch'] == 'C']\n",
        "\n",
        "# Agrupar os dados por mês e linha de produto e somar os totais\n",
        "faturamento_por_linha_produto_mes_C = dados_filial_C.groupby(['Product line', 'Month'])['Total'].sum().unstack(fill_value=0)\n",
        "\n",
        "# Adicionar uma coluna com o total dos valores para cada linha de produto\n",
        "faturamento_por_linha_produto_mes_C['Total'] = faturamento_por_linha_produto_mes_C.sum(axis=1)\n",
        "\n",
        "# Adicionar uma linha com a soma dos totais para cada mês\n",
        "faturamento_por_linha_produto_mes_C.loc['Total'] = faturamento_por_linha_produto_mes_C.sum()\n",
        "\n",
        "# Arredondar os valores para duas casas decimais\n",
        "faturamento_por_linha_produto_mes_C = faturamento_por_linha_produto_mes_C.round(2)\n",
        "\n",
        "print(\"Filial C:\")\n",
        "print(faturamento_por_linha_produto_mes_C)\n",
        "\n",
        "\n",
        "\n"
      ],
      "metadata": {
        "colab": {
          "base_uri": "https://localhost:8080/"
        },
        "id": "MwqY1RGj4MDw",
        "outputId": "30c5873b-05f0-426c-c3cd-49c5c8e0bf67"
      },
      "execution_count": 9,
      "outputs": [
        {
          "output_type": "stream",
          "name": "stdout",
          "text": [
            "Filial A:\n",
            "Month                          1         2         3      Total\n",
            "Product line                                                   \n",
            "Electronic accessories   6401.27   5202.77   6713.07   18317.11\n",
            "Fashion accessories      6847.49   5173.63   4311.38   16332.51\n",
            "Food and beverages       4646.23   7054.23   5462.65   17163.10\n",
            "Health and beauty        3962.60   2915.48   5719.68   12597.75\n",
            "Home and lifestyle      10313.59   4771.63   7331.97   22417.20\n",
            "Sports and travel        6509.95   4742.38   8120.37   19372.70\n",
            "Total                   38681.13  29860.12  37659.12  106200.37\n",
            "\n",
            "Filial B:\n",
            "Month                          1         2         3      Total\n",
            "Product line                                                   \n",
            "Electronic accessories   6699.78   6686.25   3665.41   17051.44\n",
            "Fashion accessories      6112.60   6137.11   4163.61   16413.32\n",
            "Food and beverages       6609.28   5554.82   3050.80   15214.89\n",
            "Health and beauty        6399.89   5856.43   7724.35   19980.66\n",
            "Home and lifestyle       4586.44   4659.85   8302.88   17549.16\n",
            "Sports and travel        6768.08   5529.81   7690.30   19988.20\n",
            "Total                   37176.06  34424.27  34597.34  106197.67\n",
            "\n",
            "Filial C:\n",
            "Month                          1         2         3      Total\n",
            "Product line                                                   \n",
            "Electronic accessories   5730.24   5473.88   7764.86   18968.97\n",
            "Fashion accessories      6385.03   7699.11   7475.93   21560.07\n",
            "Food and beverages       8315.02   7391.32   8060.51   23766.86\n",
            "Health and beauty        6020.69   5830.35   4764.29   16615.33\n",
            "Home and lifestyle       5594.70   3002.91   5297.94   13895.55\n",
            "Sports and travel        8389.00   3537.42   3835.51   15761.93\n",
            "Total                   40434.68  32934.98  37199.04  110568.71\n"
          ]
        }
      ]
    },
    {
      "cell_type": "markdown",
      "source": [
        "A Filial A teve um desempenho estável com flutuações em algumas categorias, sendo \"Home and Lifestyle\" e \"Sports and Travel\" as mais destacadas.\n",
        "Filial B apresentou consistência nas vendas de \"Fashion Accessories\" e um aumento notável em \"Health and Beauty\" no terceiro mês.\n",
        "Filial C destacou-se em \"Food and Beverages\" e \"Fashion Accessories\", com um desempenho crescente ao longo dos meses.\n",
        "\n",
        "\n",
        "\n",
        "Agora vamos tentar incluir o gênero nas análises."
      ],
      "metadata": {
        "id": "bD8Qv1C5GMIG"
      }
    },
    {
      "cell_type": "code",
      "source": [
        "# Agrupando por 'Gender' e 'Product line' e somando os gastos\n",
        "gastos_por_genero_produto = df.groupby(['Product line', 'Gender'])['Total'].sum().unstack().apply(lambda x: round(x, 2))\n",
        "print(gastos_por_genero_produto)\n",
        "\n",
        "# Definindo cores para os gêneros\n",
        "cores = {'Male': 'blue', 'Female': 'pink'}\n",
        "\n",
        "# Plotando um gráfico de barras empilhadas com cores diferentes para cada gênero\n",
        "ax = gastos_por_genero_produto.plot(kind='bar', stacked=True, color=[cores[col] for col in gastos_por_genero_produto.columns])\n",
        "\n",
        "plt.xlabel('Linha de Produto')\n",
        "plt.ylabel('Faturamento')\n",
        "plt.title('Faturamento por Linha de Produto com Gênero Empilhado')\n",
        "plt.legend(title='Gênero', bbox_to_anchor=(1, 1))\n",
        "\n",
        "# Adicionando rótulos nas barras\n",
        "for p in ax.patches:\n",
        "    width, height = p.get_width(), p.get_height()\n",
        "    x, y = p.get_xy()\n",
        "    ax.annotate(f'{height:.2f}', (x + width/2, y + height/2), ha='center', va='center')\n",
        "\n",
        "plt.show()\n",
        "\n",
        "\n"
      ],
      "metadata": {
        "colab": {
          "base_uri": "https://localhost:8080/",
          "height": 750
        },
        "id": "po88Fs-KREFK",
        "outputId": "731f02cc-5fd5-42c9-e0c4-c8f85a510fe7"
      },
      "execution_count": 10,
      "outputs": [
        {
          "output_type": "stream",
          "name": "stdout",
          "text": [
            "Gender                    Female      Male\n",
            "Product line                              \n",
            "Electronic accessories  27102.02  27235.51\n",
            "Fashion accessories     30437.40  23868.50\n",
            "Food and beverages      33170.92  22973.93\n",
            "Health and beauty       18560.99  30632.75\n",
            "Home and lifestyle      30036.88  23825.04\n",
            "Sports and travel       28574.72  26548.11\n"
          ]
        },
        {
          "output_type": "display_data",
          "data": {
            "text/plain": [
              "<Figure size 640x480 with 1 Axes>"
            ],
            "image/png": "[encoded data removed]"
          },
          "metadata": {}
        }
      ]
    },
    {
      "cell_type": "markdown",
      "source": [
        "Observamos certa paridade de gastos entre os gêneros de forma geral. Entretanto, evidencia-se de forma interessante que os gastos com \"Health and beauty\" são expressivamente maiores no público masculino. Já nos grupos \"Fashion accessories\", \"Food and beverages\" e \"Home and lifestyle\" a expressividade é maior no público feminino.\n",
        "\n",
        "Para mais detalhamento de informações, vamos verificar o padrão de consumo por filiais e por mês considerando os gêneros \"Male\" e \"Female\":"
      ],
      "metadata": {
        "id": "H3xsm1SFUm1V"
      }
    },
    {
      "cell_type": "code",
      "source": [
        "# Filtrar os dados apenas para a filial A\n",
        "dados_filial_A = df[df['Branch'] == 'A']\n",
        "faturamento_por_genero_mes_A = dados_filial_A.groupby(['Gender', 'Month'])['Total'].sum().unstack(fill_value=0)\n",
        "faturamento_por_genero_mes_A['Total'] = faturamento_por_genero_mes_A.sum(axis=1)\n",
        "faturamento_por_genero_mes_A.loc['Total'] = faturamento_por_genero_mes_A.sum()\n",
        "faturamento_por_genero_mes_A = faturamento_por_genero_mes_A.round(2)\n",
        "\n",
        "print(\"Filial A:\")\n",
        "print(faturamento_por_genero_mes_A)\n",
        "print()\n",
        "\n",
        "# Filtrar os dados apenas para a filial B\n",
        "dados_filial_B = df[df['Branch'] == 'B']\n",
        "faturamento_por_genero_mes_B = dados_filial_B.groupby(['Gender', 'Month'])['Total'].sum().unstack(fill_value=0)\n",
        "faturamento_por_genero_mes_B['Total'] = faturamento_por_genero_mes_B.sum(axis=1)\n",
        "faturamento_por_genero_mes_B.loc['Total'] = faturamento_por_genero_mes_B.sum()\n",
        "faturamento_por_genero_mes_B = faturamento_por_genero_mes_B.round(2)\n",
        "\n",
        "print(\"Filial B:\")\n",
        "print(faturamento_por_genero_mes_B)\n",
        "print()\n",
        "\n",
        "# Filtrar os dados apenas para a filial C\n",
        "dados_filial_C = df[df['Branch'] == 'C']\n",
        "faturamento_por_genero_mes_C = dados_filial_C.groupby(['Gender', 'Month'])['Total'].sum().unstack(fill_value=0)\n",
        "faturamento_por_genero_mes_C['Total'] = faturamento_por_genero_mes_C.sum(axis=1)\n",
        "faturamento_por_genero_mes_C.loc['Total'] = faturamento_por_genero_mes_C.sum()\n",
        "faturamento_por_genero_mes_C = faturamento_por_genero_mes_C.round(2)\n",
        "\n",
        "print(\"Filial C:\")\n",
        "print(faturamento_por_genero_mes_C)\n"
      ],
      "metadata": {
        "colab": {
          "base_uri": "https://localhost:8080/"
        },
        "id": "muf84Lw_2IYq",
        "outputId": "471f66f8-f0f1-44ca-d2e1-0c84a19ee71e"
      },
      "execution_count": 11,
      "outputs": [
        {
          "output_type": "stream",
          "name": "stdout",
          "text": [
            "Filial A:\n",
            "Month          1         2         3      Total\n",
            "Gender                                         \n",
            "Female  17419.94  15751.53  20097.69   53269.17\n",
            "Male    21261.19  14108.59  17561.43   52931.20\n",
            "Total   38681.13  29860.12  37659.12  106200.37\n",
            "\n",
            "Filial B:\n",
            "Month          1         2         3      Total\n",
            "Gender                                         \n",
            "Female  18501.08  19676.87  14750.34   52928.30\n",
            "Male    18674.97  14747.40  19847.01   53269.38\n",
            "Total   37176.06  34424.27  34597.34  106197.67\n",
            "\n",
            "Filial C:\n",
            "Month          1         2         3      Total\n",
            "Gender                                         \n",
            "Female  23217.96  20907.15  17560.36   61685.46\n",
            "Male    17216.72  12027.83  19638.69   48883.24\n",
            "Total   40434.68  32934.98  37199.04  110568.71\n"
          ]
        }
      ]
    },
    {
      "cell_type": "markdown",
      "source": [
        "Nas Filiais A e B, obseramos uma paridade de consumo entre os gêneros com flutuações que se alternam em alguns meses. Já na filial C vemos uma tendência maior de gastos do público feminino, o que corrobora com os dados da análise anterior que demonstra que o público feminino é maior em Foods and Beverages e Fashion Acessories, categorias fortes na filial C.\n",
        "\n",
        "Nas seções abaixo faremos algumas análises de correlação entre o total de gastos e a variável gênero. Será atribuido o valor 0 para Male e 1 para Female para que a correlação possa ser estabelecida."
      ],
      "metadata": {
        "id": "IQjuO6GOWU3C"
      }
    },
    {
      "cell_type": "code",
      "source": [
        "# Filtrar os dados apenas para a filial A\n",
        "df_a = df[df['Branch'] == 'A'].copy()  # Utiliza-se .copy() para evitar a visualização\n",
        "\n",
        "# É necessário converter a coluna Gender para valores numéricos\n",
        "df_a.loc[:, 'Gender_Num'] = df_a['Gender'].map({'Male': 0, 'Female': 1})\n",
        "\n",
        "# Calcular a correlação entre Gender_Num e Total para a filial A\n",
        "correlation_a = df_a['Gender_Num'].corr(df_a['Total'])\n",
        "print(f\"Correlação entre Gender e Total para a filial A: {correlation_a:.2f}\")\n",
        "\n",
        "\n",
        "# Filtrar os dados apenas para a filial B\n",
        "df_b = df[df['Branch'] == 'B'].copy()\n",
        "\n",
        "df_b.loc[:, 'Gender_Num'] = df_b['Gender'].map({'Male': 0, 'Female': 1})\n",
        "\n",
        "correlation_b = df_b['Gender_Num'].corr(df_b['Total'])\n",
        "print(f\"Correlação entre Gender e Total para a filial B: {correlation_b:.2f}\")\n",
        "\n",
        "\n",
        "# Filtrar os dados apenas para a filial C\n",
        "df_c = df[df['Branch'] == 'C'].copy()\n",
        "\n",
        "df_c.loc[:, 'Gender_Num'] = df_c['Gender'].map({'Male': 0, 'Female': 1})\n",
        "\n",
        "correlation_c = df_c['Gender_Num'].corr(df_c['Total'])\n",
        "print(f\"Correlação entre Gender e Total para a filial C: {correlation_c:.2f}\")\n",
        "\n",
        "\n",
        "# Calcular a correlação entre Gender_Num e Total\n",
        "df.loc[:, 'Gender_Num'] = df['Gender'].map({'Male': 0, 'Female': 1})\n",
        "correlation = df['Gender_Num'].corr(df['Total'])\n",
        "print(f\"Correlação entre Gender e Total geral para todas as filiais: {correlation:.2f}\")\n",
        "\n",
        "\n"
      ],
      "metadata": {
        "colab": {
          "base_uri": "https://localhost:8080/"
        },
        "id": "Bj_aZ5Id6HY1",
        "outputId": "dd679ff1-2da6-467d-9f96-541d37fcc901"
      },
      "execution_count": 22,
      "outputs": [
        {
          "output_type": "stream",
          "name": "stdout",
          "text": [
            "Correlação entre Gender e Total para a filial A: 0.08\n",
            "Correlação entre Gender e Total para a filial B: 0.03\n",
            "Correlação entre Gender e Total para a filial C: 0.04\n",
            "Correlação entre Gender e Total geral para todas as filiais: 0.05\n"
          ]
        }
      ]
    },
    {
      "cell_type": "code",
      "source": [
        "# Calcular a correlação entre Gender_Num e Total para cada mês na filial A\n",
        "for month in range(1, 4):\n",
        "    correlation_a_month = df_a[df_a['Month'] == month]['Gender_Num'].corr(df_a[df_a['Month'] == month]['Total'])\n",
        "    print(f\"Correlação entre Gender e Total para a filial A no mês {month}: {correlation_a_month:.2f}\")\n",
        "\n",
        "# Calcular a correlação entre Gender_Num e Total para cada mês na filial B\n",
        "for month in range(1, 4):\n",
        "    correlation_b_month = df_b[df_b['Month'] == month]['Gender_Num'].corr(df_b[df_b['Month'] == month]['Total'])\n",
        "    print(f\"Correlação entre Gender e Total para a filial B no mês {month}: {correlation_b_month:.2f}\")\n",
        "\n",
        "# Calcular a correlação entre Gender_Num e Total para cada mês na filial C\n",
        "for month in range(1, 4):\n",
        "    correlation_c_month = df_c[df_c['Month'] == month]['Gender_Num'].corr(df_c[df_c['Month'] == month]['Total'])\n",
        "    print(f\"Correlação entre Gender e Total para a filial C no mês {month}: {correlation_c_month:.2f}\")\n"
      ],
      "metadata": {
        "colab": {
          "base_uri": "https://localhost:8080/"
        },
        "id": "mdLKZQer8gTK",
        "outputId": "e673d09d-d378-4fd8-b0be-23e09418ad6a"
      },
      "execution_count": 23,
      "outputs": [
        {
          "output_type": "stream",
          "name": "stdout",
          "text": [
            "Correlação entre Gender e Total para a filial A no mês 1: 0.06\n",
            "Correlação entre Gender e Total para a filial A no mês 2: 0.04\n",
            "Correlação entre Gender e Total para a filial A no mês 3: 0.12\n",
            "Correlação entre Gender e Total para a filial B no mês 1: -0.07\n",
            "Correlação entre Gender e Total para a filial B no mês 2: 0.19\n",
            "Correlação entre Gender e Total para a filial B no mês 3: -0.03\n",
            "Correlação entre Gender e Total para a filial C no mês 1: 0.06\n",
            "Correlação entre Gender e Total para a filial C no mês 2: 0.06\n",
            "Correlação entre Gender e Total para a filial C no mês 3: 0.00\n"
          ]
        }
      ]
    },
    {
      "cell_type": "markdown",
      "source": [
        "A análise das correlações entre o gênero do cliente e o total de vendas em cada filial revela insights significativos sobre os padrões de compra. Embora haja alguma associação entre o gênero e as vendas, essa relação é leve e variável. Na Filial A, observamos uma correlação positiva, indicando uma tendência sutil de gastos mais elevados por determinado gênero em diferentes meses. No entanto, a Filial B apresenta resultados mais complexos, com uma correlação negativa no primeiro mês seguida por uma correlação positiva acentuada no segundo mês e novamente uma correlação negativa leve no terceiro mês. Essa flutuação sugere uma dinâmica distinta de compra entre os gêneros ao longo do tempo. Na Filial C, as correlações positivas consistentes nos dois primeiros meses contrastam com uma correlação próxima a zero no terceiro mês, destacando a necessidade de análises mais aprofundadas para compreender as nuances desses padrões. No geral, esses resultados ressaltam a importância de considerar uma variedade de fatores além do gênero do cliente ao desenvolver estratégias de vendas e marketing, reconhecendo que o comportamento do consumidor é multifacetado e pode ser influenciado por uma interação complexa de variáveis."
      ],
      "metadata": {
        "id": "3AVpiTj3BKJm"
      }
    },
    {
      "cell_type": "markdown",
      "source": [
        "Agora vamos ver um diagnóstico do perfil do consumidor em relação a ser membro ou não da filial (efetua compras com o cartão fidelidade da loja):"
      ],
      "metadata": {
        "id": "QnHIBntUaVJj"
      }
    },
    {
      "cell_type": "code",
      "source": [
        "# Filtrar os dados apenas para a filial A\n",
        "dados_filial_A = df[df['Branch'] == 'A']\n",
        "faturamento_por_cliente_mes_A = dados_filial_A.groupby(['Customer type', 'Month'])['Total'].sum().unstack(fill_value=0)\n",
        "faturamento_por_cliente_mes_A['Total'] = faturamento_por_cliente_mes_A.sum(axis=1)\n",
        "faturamento_por_cliente_mes_A.loc['Total'] = faturamento_por_cliente_mes_A.sum()\n",
        "faturamento_por_cliente_mes_A = faturamento_por_cliente_mes_A.round(2)\n",
        "\n",
        "print(\"Filial A:\")\n",
        "print(faturamento_por_cliente_mes_A)\n",
        "print()\n",
        "\n",
        "# Filtrar os dados apenas para a filial B\n",
        "dados_filial_B = df[df['Branch'] == 'B']\n",
        "faturamento_por_cliente_mes_B = dados_filial_B.groupby(['Customer type', 'Month'])['Total'].sum().unstack(fill_value=0)\n",
        "faturamento_por_cliente_mes_B['Total'] = faturamento_por_cliente_mes_B.sum(axis=1)\n",
        "faturamento_por_cliente_mes_B.loc['Total'] = faturamento_por_cliente_mes_B.sum()\n",
        "faturamento_por_cliente_mes_B = faturamento_por_cliente_mes_B.round(2)\n",
        "\n",
        "print(\"Filial B:\")\n",
        "print(faturamento_por_cliente_mes_B)\n",
        "print()\n",
        "\n",
        "# Filtrar os dados apenas para a filial C\n",
        "dados_filial_C = df[df['Branch'] == 'C']\n",
        "faturamento_por_cliente_mes_C = dados_filial_C.groupby(['Customer type', 'Month'])['Total'].sum().unstack(fill_value=0)\n",
        "faturamento_por_cliente_mes_C['Total'] = faturamento_por_cliente_mes_C.sum(axis=1)\n",
        "faturamento_por_cliente_mes_C.loc['Total'] = faturamento_por_cliente_mes_C.sum()\n",
        "faturamento_por_cliente_mes_C = faturamento_por_cliente_mes_C.round(2)\n",
        "\n",
        "print(\"Filial C:\")\n",
        "print(faturamento_por_cliente_mes_C)\n"
      ],
      "metadata": {
        "colab": {
          "base_uri": "https://localhost:8080/"
        },
        "id": "heOPRS0oYZff",
        "outputId": "abe28836-c891-458c-bea8-1e4fbd1928df"
      },
      "execution_count": 12,
      "outputs": [
        {
          "output_type": "stream",
          "name": "stdout",
          "text": [
            "Filial A:\n",
            "Month                 1         2         3      Total\n",
            "Customer type                                         \n",
            "Member         20198.05  15973.41  17466.02   53637.48\n",
            "Normal         18483.08  13886.71  20193.11   52562.90\n",
            "Total          38681.13  29860.12  37659.12  106200.37\n",
            "\n",
            "Filial B:\n",
            "Month                 1         2         3      Total\n",
            "Customer type                                         \n",
            "Member         18568.72  17156.94  17979.02   53704.69\n",
            "Normal         18607.33  17267.33  16618.32   52492.99\n",
            "Total          37176.06  34424.27  34597.34  106197.67\n",
            "\n",
            "Filial C:\n",
            "Month                 1         2         3      Total\n",
            "Customer type                                         \n",
            "Member         19148.05  17165.70  20567.53   56881.28\n",
            "Normal         21286.63  15769.28  16631.52   53687.42\n",
            "Total          40434.68  32934.98  37199.04  110568.71\n"
          ]
        }
      ]
    },
    {
      "cell_type": "markdown",
      "source": [
        "Nas 3 filiais observamos uma distribuição bem parelha no tipo de cliente (membro ou cliente normal), o que demonstra certa fraqueza no programa de membros dos estabelecimentos que aparentemente não incentiva ou não dá atrativos pros clientes fazerem parte. Seria necessário verificar os custos do programa e averiguar se vale a pena acabar com o programa ou se for manter, criar estratégias para expandi-lo."
      ],
      "metadata": {
        "id": "lb4blyFDdbA9"
      }
    },
    {
      "cell_type": "markdown",
      "source": [
        "Para finalizar, vamos observar a distribuição do faturamento por tipo de pagamento, por loja:"
      ],
      "metadata": {
        "id": "I7boWkhfaoC8"
      }
    },
    {
      "cell_type": "code",
      "source": [
        "# Filtrar os dados apenas para a filial A\n",
        "dados_filial_A = df[df['Branch'] == 'A']\n",
        "faturamento_por_pagamento_mes_A = dados_filial_A.groupby(['Payment', 'Month'])['Total'].sum().unstack(fill_value=0)\n",
        "faturamento_por_pagamento_mes_A['Total'] = faturamento_por_pagamento_mes_A.sum(axis=1)\n",
        "faturamento_por_pagamento_mes_A.loc['Total'] = faturamento_por_pagamento_mes_A.sum()\n",
        "faturamento_por_pagamento_mes_A = faturamento_por_pagamento_mes_A.round(2)\n",
        "\n",
        "print(\"Filial A:\")\n",
        "print(faturamento_por_pagamento_mes_A)\n",
        "print()\n",
        "\n",
        "# Filtrar os dados apenas para a filial B\n",
        "dados_filial_B = df[df['Branch'] == 'B']\n",
        "faturamento_por_pagamento_mes_B = dados_filial_B.groupby(['Payment', 'Month'])['Total'].sum().unstack(fill_value=0)\n",
        "faturamento_por_pagamento_mes_B['Total'] = faturamento_por_pagamento_mes_B.sum(axis=1)\n",
        "faturamento_por_pagamento_mes_B.loc['Total'] = faturamento_por_pagamento_mes_B.sum()\n",
        "faturamento_por_pagamento_mes_B = faturamento_por_pagamento_mes_B.round(2)\n",
        "\n",
        "print(\"Filial B:\")\n",
        "print(faturamento_por_pagamento_mes_B)\n",
        "print()\n",
        "\n",
        "# Filtrar os dados apenas para a filial C\n",
        "dados_filial_C = df[df['Branch'] == 'C']\n",
        "faturamento_por_pagamento_mes_C = dados_filial_C.groupby(['Payment', 'Month'])['Total'].sum().unstack(fill_value=0)\n",
        "faturamento_por_pagamento_mes_C['Total'] = faturamento_por_pagamento_mes_C.sum(axis=1)\n",
        "faturamento_por_pagamento_mes_C.loc['Total'] = faturamento_por_pagamento_mes_C.sum()\n",
        "faturamento_por_pagamento_mes_C = faturamento_por_pagamento_mes_C.round(2)\n",
        "\n",
        "print(\"Filial C:\")\n",
        "print(faturamento_por_pagamento_mes_C)\n"
      ],
      "metadata": {
        "colab": {
          "base_uri": "https://localhost:8080/"
        },
        "id": "yg5j-lMR4EIy",
        "outputId": "af19da47-b182-4bbb-cf6d-0b745e125872"
      },
      "execution_count": 13,
      "outputs": [
        {
          "output_type": "stream",
          "name": "stdout",
          "text": [
            "Filial A:\n",
            "Month               1         2         3      Total\n",
            "Payment                                             \n",
            "Cash         12050.65  10696.38  11034.22   33781.25\n",
            "Credit card  12091.65   9572.20  11430.90   33094.75\n",
            "Ewallet      14538.82   9591.54  15194.00   39324.37\n",
            "Total        38681.13  29860.12  37659.12  106200.37\n",
            "\n",
            "Filial B:\n",
            "Month               1         2         3      Total\n",
            "Payment                                             \n",
            "Cash         11921.69  14251.76   9166.02   35339.46\n",
            "Credit card  16188.60  10234.86  10921.40   37344.86\n",
            "Ewallet       9065.77   9937.65  14509.93   33513.35\n",
            "Total        37176.06  34424.27  34597.34  106197.67\n",
            "\n",
            "Filial C:\n",
            "Month               1         2         3      Total\n",
            "Payment                                             \n",
            "Cash         17797.74  10798.20  14489.92   43085.86\n",
            "Credit card   9966.33  11552.96   8808.18   30327.46\n",
            "Ewallet      12670.61  10583.82  13900.95   37155.38\n",
            "Total        40434.68  32934.98  37199.04  110568.71\n"
          ]
        }
      ]
    },
    {
      "cell_type": "markdown",
      "source": [
        "Observamos flutuações no padrão de pagamento dos clientes, entretanto ao considerar o período todo, na Filial A a predominância é no pagamento por Ewallets, na filial B por credit card e na filial C pagamentos em dinheiro."
      ],
      "metadata": {
        "id": "4RAkcFglc_I1"
      }
    },
    {
      "cell_type": "markdown",
      "source": [
        "De modo geral, observamos dados pouco discrepantes dentro dos cenários avaliados, com alguns insights importantes referentes ao padrão de consumo das lojas que podem ser eficientes para se criar ou melhorar estratégias de marketing do estabelecimento. O intuito deste trabalho não era aprofundar muito nas análises mas sim demonstrar, através de constatações, alguns códigos e ferramentas básicas da linguagem Python que podem ser úteis para análise de dados."
      ],
      "metadata": {
        "id": "Uwd_p0mcd-nx"
      }
    }
  ]
}